{
 "cells": [
  {
   "cell_type": "code",
   "execution_count": 1,
   "id": "c7517f3c",
   "metadata": {},
   "outputs": [],
   "source": [
    "# import libraries EDA\n",
    "\n",
    "import pandas as pd\n",
    "import numpy as np\n",
    "import matplotlib\n",
    "import matplotlib.pyplot as plt\n",
    "import seaborn as sns\n"
   ]
  },
  {
   "cell_type": "code",
   "execution_count": 2,
   "id": "2b82efee",
   "metadata": {},
   "outputs": [
    {
     "ename": "FileNotFoundError",
     "evalue": "[Errno 2] No such file or directory: 'Amazon.csv'",
     "output_type": "error",
     "traceback": [
      "\u001b[1;31m---------------------------------------------------------------------------\u001b[0m",
      "\u001b[1;31mFileNotFoundError\u001b[0m                         Traceback (most recent call last)",
      "\u001b[1;32m~\\AppData\\Local\\Temp\\ipykernel_880\\690781213.py\u001b[0m in \u001b[0;36m<module>\u001b[1;34m\u001b[0m\n\u001b[1;32m----> 1\u001b[1;33m \u001b[0mdf\u001b[0m\u001b[1;33m=\u001b[0m\u001b[0mpd\u001b[0m\u001b[1;33m.\u001b[0m\u001b[0mread_csv\u001b[0m\u001b[1;33m(\u001b[0m\u001b[1;34m'Amazon.csv'\u001b[0m\u001b[1;33m)\u001b[0m\u001b[1;33m\u001b[0m\u001b[1;33m\u001b[0m\u001b[0m\n\u001b[0m\u001b[0;32m      2\u001b[0m \u001b[0mdf\u001b[0m\u001b[1;33m\u001b[0m\u001b[1;33m\u001b[0m\u001b[0m\n",
      "\u001b[1;32mC:\\ProgramData\\Anaconda3\\lib\\site-packages\\pandas\\util\\_decorators.py\u001b[0m in \u001b[0;36mwrapper\u001b[1;34m(*args, **kwargs)\u001b[0m\n\u001b[0;32m    309\u001b[0m                     \u001b[0mstacklevel\u001b[0m\u001b[1;33m=\u001b[0m\u001b[0mstacklevel\u001b[0m\u001b[1;33m,\u001b[0m\u001b[1;33m\u001b[0m\u001b[1;33m\u001b[0m\u001b[0m\n\u001b[0;32m    310\u001b[0m                 )\n\u001b[1;32m--> 311\u001b[1;33m             \u001b[1;32mreturn\u001b[0m \u001b[0mfunc\u001b[0m\u001b[1;33m(\u001b[0m\u001b[1;33m*\u001b[0m\u001b[0margs\u001b[0m\u001b[1;33m,\u001b[0m \u001b[1;33m**\u001b[0m\u001b[0mkwargs\u001b[0m\u001b[1;33m)\u001b[0m\u001b[1;33m\u001b[0m\u001b[1;33m\u001b[0m\u001b[0m\n\u001b[0m\u001b[0;32m    312\u001b[0m \u001b[1;33m\u001b[0m\u001b[0m\n\u001b[0;32m    313\u001b[0m         \u001b[1;32mreturn\u001b[0m \u001b[0mwrapper\u001b[0m\u001b[1;33m\u001b[0m\u001b[1;33m\u001b[0m\u001b[0m\n",
      "\u001b[1;32mC:\\ProgramData\\Anaconda3\\lib\\site-packages\\pandas\\io\\parsers\\readers.py\u001b[0m in \u001b[0;36mread_csv\u001b[1;34m(filepath_or_buffer, sep, delimiter, header, names, index_col, usecols, squeeze, prefix, mangle_dupe_cols, dtype, engine, converters, true_values, false_values, skipinitialspace, skiprows, skipfooter, nrows, na_values, keep_default_na, na_filter, verbose, skip_blank_lines, parse_dates, infer_datetime_format, keep_date_col, date_parser, dayfirst, cache_dates, iterator, chunksize, compression, thousands, decimal, lineterminator, quotechar, quoting, doublequote, escapechar, comment, encoding, encoding_errors, dialect, error_bad_lines, warn_bad_lines, on_bad_lines, delim_whitespace, low_memory, memory_map, float_precision, storage_options)\u001b[0m\n\u001b[0;32m    676\u001b[0m     \u001b[0mkwds\u001b[0m\u001b[1;33m.\u001b[0m\u001b[0mupdate\u001b[0m\u001b[1;33m(\u001b[0m\u001b[0mkwds_defaults\u001b[0m\u001b[1;33m)\u001b[0m\u001b[1;33m\u001b[0m\u001b[1;33m\u001b[0m\u001b[0m\n\u001b[0;32m    677\u001b[0m \u001b[1;33m\u001b[0m\u001b[0m\n\u001b[1;32m--> 678\u001b[1;33m     \u001b[1;32mreturn\u001b[0m \u001b[0m_read\u001b[0m\u001b[1;33m(\u001b[0m\u001b[0mfilepath_or_buffer\u001b[0m\u001b[1;33m,\u001b[0m \u001b[0mkwds\u001b[0m\u001b[1;33m)\u001b[0m\u001b[1;33m\u001b[0m\u001b[1;33m\u001b[0m\u001b[0m\n\u001b[0m\u001b[0;32m    679\u001b[0m \u001b[1;33m\u001b[0m\u001b[0m\n\u001b[0;32m    680\u001b[0m \u001b[1;33m\u001b[0m\u001b[0m\n",
      "\u001b[1;32mC:\\ProgramData\\Anaconda3\\lib\\site-packages\\pandas\\io\\parsers\\readers.py\u001b[0m in \u001b[0;36m_read\u001b[1;34m(filepath_or_buffer, kwds)\u001b[0m\n\u001b[0;32m    573\u001b[0m \u001b[1;33m\u001b[0m\u001b[0m\n\u001b[0;32m    574\u001b[0m     \u001b[1;31m# Create the parser.\u001b[0m\u001b[1;33m\u001b[0m\u001b[1;33m\u001b[0m\u001b[0m\n\u001b[1;32m--> 575\u001b[1;33m     \u001b[0mparser\u001b[0m \u001b[1;33m=\u001b[0m \u001b[0mTextFileReader\u001b[0m\u001b[1;33m(\u001b[0m\u001b[0mfilepath_or_buffer\u001b[0m\u001b[1;33m,\u001b[0m \u001b[1;33m**\u001b[0m\u001b[0mkwds\u001b[0m\u001b[1;33m)\u001b[0m\u001b[1;33m\u001b[0m\u001b[1;33m\u001b[0m\u001b[0m\n\u001b[0m\u001b[0;32m    576\u001b[0m \u001b[1;33m\u001b[0m\u001b[0m\n\u001b[0;32m    577\u001b[0m     \u001b[1;32mif\u001b[0m \u001b[0mchunksize\u001b[0m \u001b[1;32mor\u001b[0m \u001b[0miterator\u001b[0m\u001b[1;33m:\u001b[0m\u001b[1;33m\u001b[0m\u001b[1;33m\u001b[0m\u001b[0m\n",
      "\u001b[1;32mC:\\ProgramData\\Anaconda3\\lib\\site-packages\\pandas\\io\\parsers\\readers.py\u001b[0m in \u001b[0;36m__init__\u001b[1;34m(self, f, engine, **kwds)\u001b[0m\n\u001b[0;32m    930\u001b[0m \u001b[1;33m\u001b[0m\u001b[0m\n\u001b[0;32m    931\u001b[0m         \u001b[0mself\u001b[0m\u001b[1;33m.\u001b[0m\u001b[0mhandles\u001b[0m\u001b[1;33m:\u001b[0m \u001b[0mIOHandles\u001b[0m \u001b[1;33m|\u001b[0m \u001b[1;32mNone\u001b[0m \u001b[1;33m=\u001b[0m \u001b[1;32mNone\u001b[0m\u001b[1;33m\u001b[0m\u001b[1;33m\u001b[0m\u001b[0m\n\u001b[1;32m--> 932\u001b[1;33m         \u001b[0mself\u001b[0m\u001b[1;33m.\u001b[0m\u001b[0m_engine\u001b[0m \u001b[1;33m=\u001b[0m \u001b[0mself\u001b[0m\u001b[1;33m.\u001b[0m\u001b[0m_make_engine\u001b[0m\u001b[1;33m(\u001b[0m\u001b[0mf\u001b[0m\u001b[1;33m,\u001b[0m \u001b[0mself\u001b[0m\u001b[1;33m.\u001b[0m\u001b[0mengine\u001b[0m\u001b[1;33m)\u001b[0m\u001b[1;33m\u001b[0m\u001b[1;33m\u001b[0m\u001b[0m\n\u001b[0m\u001b[0;32m    933\u001b[0m \u001b[1;33m\u001b[0m\u001b[0m\n\u001b[0;32m    934\u001b[0m     \u001b[1;32mdef\u001b[0m \u001b[0mclose\u001b[0m\u001b[1;33m(\u001b[0m\u001b[0mself\u001b[0m\u001b[1;33m)\u001b[0m\u001b[1;33m:\u001b[0m\u001b[1;33m\u001b[0m\u001b[1;33m\u001b[0m\u001b[0m\n",
      "\u001b[1;32mC:\\ProgramData\\Anaconda3\\lib\\site-packages\\pandas\\io\\parsers\\readers.py\u001b[0m in \u001b[0;36m_make_engine\u001b[1;34m(self, f, engine)\u001b[0m\n\u001b[0;32m   1214\u001b[0m             \u001b[1;31m# \"Union[str, PathLike[str], ReadCsvBuffer[bytes], ReadCsvBuffer[str]]\"\u001b[0m\u001b[1;33m\u001b[0m\u001b[1;33m\u001b[0m\u001b[0m\n\u001b[0;32m   1215\u001b[0m             \u001b[1;31m# , \"str\", \"bool\", \"Any\", \"Any\", \"Any\", \"Any\", \"Any\"\u001b[0m\u001b[1;33m\u001b[0m\u001b[1;33m\u001b[0m\u001b[0m\n\u001b[1;32m-> 1216\u001b[1;33m             self.handles = get_handle(  # type: ignore[call-overload]\n\u001b[0m\u001b[0;32m   1217\u001b[0m                 \u001b[0mf\u001b[0m\u001b[1;33m,\u001b[0m\u001b[1;33m\u001b[0m\u001b[1;33m\u001b[0m\u001b[0m\n\u001b[0;32m   1218\u001b[0m                 \u001b[0mmode\u001b[0m\u001b[1;33m,\u001b[0m\u001b[1;33m\u001b[0m\u001b[1;33m\u001b[0m\u001b[0m\n",
      "\u001b[1;32mC:\\ProgramData\\Anaconda3\\lib\\site-packages\\pandas\\io\\common.py\u001b[0m in \u001b[0;36mget_handle\u001b[1;34m(path_or_buf, mode, encoding, compression, memory_map, is_text, errors, storage_options)\u001b[0m\n\u001b[0;32m    784\u001b[0m         \u001b[1;32mif\u001b[0m \u001b[0mioargs\u001b[0m\u001b[1;33m.\u001b[0m\u001b[0mencoding\u001b[0m \u001b[1;32mand\u001b[0m \u001b[1;34m\"b\"\u001b[0m \u001b[1;32mnot\u001b[0m \u001b[1;32min\u001b[0m \u001b[0mioargs\u001b[0m\u001b[1;33m.\u001b[0m\u001b[0mmode\u001b[0m\u001b[1;33m:\u001b[0m\u001b[1;33m\u001b[0m\u001b[1;33m\u001b[0m\u001b[0m\n\u001b[0;32m    785\u001b[0m             \u001b[1;31m# Encoding\u001b[0m\u001b[1;33m\u001b[0m\u001b[1;33m\u001b[0m\u001b[0m\n\u001b[1;32m--> 786\u001b[1;33m             handle = open(\n\u001b[0m\u001b[0;32m    787\u001b[0m                 \u001b[0mhandle\u001b[0m\u001b[1;33m,\u001b[0m\u001b[1;33m\u001b[0m\u001b[1;33m\u001b[0m\u001b[0m\n\u001b[0;32m    788\u001b[0m                 \u001b[0mioargs\u001b[0m\u001b[1;33m.\u001b[0m\u001b[0mmode\u001b[0m\u001b[1;33m,\u001b[0m\u001b[1;33m\u001b[0m\u001b[1;33m\u001b[0m\u001b[0m\n",
      "\u001b[1;31mFileNotFoundError\u001b[0m: [Errno 2] No such file or directory: 'Amazon.csv'"
     ]
    }
   ],
   "source": [
    "df=pd.read_csv('Amazon.csv')\n",
    "df"
   ]
  },
  {
   "cell_type": "code",
   "execution_count": null,
   "id": "9fedec5e",
   "metadata": {},
   "outputs": [],
   "source": [
    "#views first five rows\n",
    "df.head()"
   ]
  },
  {
   "cell_type": "code",
   "execution_count": null,
   "id": "85ed93ff",
   "metadata": {},
   "outputs": [],
   "source": [
    "df.shape"
   ]
  },
  {
   "cell_type": "code",
   "execution_count": null,
   "id": "7750c899",
   "metadata": {},
   "outputs": [],
   "source": [
    "df.dtypes"
   ]
  },
  {
   "cell_type": "markdown",
   "id": "11018c60",
   "metadata": {},
   "source": [
    "# Replace Null value and change data type"
   ]
  },
  {
   "cell_type": "code",
   "execution_count": null,
   "id": "fd97e1cc",
   "metadata": {},
   "outputs": [],
   "source": [
    "#Replace actual_price in float\n",
    "df['actual_price'] = df['actual_price'].str.replace('₹','')\n",
    "df['actual_price'] = df['actual_price'].str.replace(',','').astype('float64')\n",
    "\n",
    "#replace discounded price in float\n",
    "df['discounted_price'] = df['discounted_price'].str.replace('₹','')\n",
    "df['discounted_price'] = df['discounted_price'].str.replace(',','').astype('float64')\n",
    "\n",
    "#replace discount percentage in float\n",
    "df['discount_percentage'] = df['discount_percentage'].str.replace('%','').astype('float64')\n",
    "df['discount_percentage'] = df['discount_percentage']/100\n",
    "#replace rating count in float\n",
    "df['rating_count'] = df['rating_count'].str.replace(',','').astype('float64')\n",
    "#view the rating counts\n",
    "df['rating'].value_counts()"
   ]
  },
  {
   "cell_type": "code",
   "execution_count": null,
   "id": "52bab1b6",
   "metadata": {},
   "outputs": [],
   "source": [
    "df.duplicated()"
   ]
  },
  {
   "cell_type": "code",
   "execution_count": null,
   "id": "e69aee59",
   "metadata": {},
   "outputs": [],
   "source": [
    "#filters row where the 'rating' column contains '/'\n",
    "\n",
    "df[df['rating']=='|']"
   ]
  },
  {
   "cell_type": "code",
   "execution_count": null,
   "id": "ae4ed2fb",
   "metadata": {},
   "outputs": [],
   "source": [
    "# Replace '|' in the 'rating' column with '4.0' and convert the column to float\n",
    "df['rating']=df['rating'].str.replace('|','4.0').astype('float64')\n",
    "\n",
    "# Display the value counts of the 'rating' column\n",
    "df['rating'].value_counts()\n"
   ]
  },
  {
   "cell_type": "markdown",
   "id": "c36f00c5",
   "metadata": {},
   "source": [
    "# check for data type"
   ]
  },
  {
   "cell_type": "code",
   "execution_count": null,
   "id": "560cbfc9",
   "metadata": {},
   "outputs": [],
   "source": [
    "df.dtypes"
   ]
  },
  {
   "cell_type": "code",
   "execution_count": null,
   "id": "8d2fbe3f",
   "metadata": {},
   "outputs": [],
   "source": [
    "df.isnull().sum()\n"
   ]
  },
  {
   "cell_type": "markdown",
   "id": "cbb42a48",
   "metadata": {},
   "source": [
    "# Check for num of rows and columns"
   ]
  },
  {
   "cell_type": "code",
   "execution_count": null,
   "id": "311187b5",
   "metadata": {},
   "outputs": [],
   "source": [
    "df.shape"
   ]
  },
  {
   "cell_type": "code",
   "execution_count": null,
   "id": "8fd3f59c",
   "metadata": {},
   "outputs": [],
   "source": [
    "df.tail(2)"
   ]
  },
  {
   "cell_type": "markdown",
   "id": "a7df787c",
   "metadata": {},
   "source": [
    "# Split category column"
   ]
  },
  {
   "cell_type": "code",
   "execution_count": null,
   "id": "3bca8fd4",
   "metadata": {},
   "outputs": [],
   "source": [
    "cat_split=df['category'].str.split('|', expand=True)\n",
    "cat_split.isnull().sum()"
   ]
  },
  {
   "cell_type": "markdown",
   "id": "14abfcca",
   "metadata": {},
   "source": [
    "# Rename column"
   ]
  },
  {
   "cell_type": "code",
   "execution_count": null,
   "id": "55ad452a",
   "metadata": {},
   "outputs": [],
   "source": [
    "cat_split=cat_split.rename(columns={0:'main category',1:'sub category'})\n",
    "cat_split"
   ]
  },
  {
   "cell_type": "markdown",
   "id": "ecca257b",
   "metadata": {},
   "source": [
    "# Add new cols to data frame and drop the old ones"
   ]
  },
  {
   "cell_type": "code",
   "execution_count": null,
   "id": "c096f84b",
   "metadata": {},
   "outputs": [],
   "source": [
    "df['main category']=cat_split['main category']\n",
    "df['sub category']=cat_split['sub category']\n",
    "\n",
    "#drop the category\n",
    "df.drop(columns='category',inplace=True)\n",
    "df"
   ]
  },
  {
   "cell_type": "code",
   "execution_count": null,
   "id": "da8fe9b0",
   "metadata": {},
   "outputs": [],
   "source": [
    "df.isnull().sum()"
   ]
  },
  {
   "cell_type": "code",
   "execution_count": null,
   "id": "68119f0d",
   "metadata": {},
   "outputs": [],
   "source": [
    "df.dropna()"
   ]
  },
  {
   "cell_type": "markdown",
   "id": "f7569a42",
   "metadata": {},
   "source": [
    "# Fixing the strings in Main category"
   ]
  },
  {
   "cell_type": "code",
   "execution_count": null,
   "id": "3a77a9df",
   "metadata": {},
   "outputs": [],
   "source": [
    "df['main category'].value_counts()"
   ]
  },
  {
   "cell_type": "code",
   "execution_count": null,
   "id": "0801d88c",
   "metadata": {},
   "outputs": [],
   "source": [
    "df['main category'] = df['main category'].str.replace('&', ' & ')\n",
    "df['main category'] = df['main category'].str.replace('OfficeProducts', 'Office Products')\n",
    "df['main category'] = df['main category'].str.replace('MusicalInstruments', 'Musical Instruments')\n",
    "df['main category'] = df['main category'].str.replace('HomeImprovement', 'Home Improvement')"
   ]
  },
  {
   "cell_type": "markdown",
   "id": "6b84cd8a",
   "metadata": {},
   "source": [
    "# Fixing string with Sub category"
   ]
  },
  {
   "cell_type": "code",
   "execution_count": null,
   "id": "d5584d32",
   "metadata": {},
   "outputs": [],
   "source": [
    "df['sub category'].value_counts()"
   ]
  },
  {
   "cell_type": "code",
   "execution_count": null,
   "id": "d24f5f39",
   "metadata": {},
   "outputs": [],
   "source": [
    "df['sub category'] = df['sub category'].str.replace('&', ' & ')\n",
    "df['sub category'] = df['sub category'].str.replace(',', ', ')\n",
    "df['sub category'] = df['sub category'].str.replace('HomeAppliances', 'Home Appliances')\n",
    "df['sub category'] = df['sub category'].str.replace('AirQuality', 'Air Quality')\n",
    "df['sub category'] = df['sub category'].str.replace('WearableTechnology', 'Wearable Technology')\n",
    "df['sub category'] = df['sub category'].str.replace('NetworkingDevices', 'Networking Devices')\n",
    "df['sub category'] = df['sub category'].str.replace('OfficePaperProducts', 'Office Paper Products')\n",
    "df['sub category'] = df['sub category'].str.replace('ExternalDevices', 'External Devices')\n",
    "df['sub category'] = df['sub category'].str.replace('DataStorage', 'Data Storage')\n",
    "df['sub category'] = df['sub category'].str.replace('HomeStorage', 'Home Storage')\n",
    "df['sub category'] = df['sub category'].str.replace('HomeAudio', 'Home Audio')\n",
    "df['sub category'] = df['sub category'].str.replace('GeneralPurposeBatteries', 'General Purpose Batteries')\n",
    "df['sub category'] = df['sub category'].str.replace('BatteryChargers', 'Battery Chargers')\n",
    "df['sub category'] = df['sub category'].str.replace('CraftMaterials', 'Craft Materials')\n",
    "df['sub category'] = df['sub category'].str.replace('OfficeElectronics', 'Office Electronics')\n",
    "df['sub category'] = df['sub category'].str.replace('PowerAccessories', 'Power Accessories')\n",
    "df['sub category'] = df['sub category'].str.replace('CarAccessories', 'Car Accessories')\n",
    "df['sub category'] = df['sub category'].str.replace('HomeMedicalSupplies', 'Home Medical Supplies')\n",
    "df['sub category'] = df['sub category'].str.replace('HomeTheater', 'Home Theater')"
   ]
  },
  {
   "cell_type": "code",
   "execution_count": null,
   "id": "7f7ead01",
   "metadata": {},
   "outputs": [],
   "source": [
    "df.head()"
   ]
  },
  {
   "cell_type": "code",
   "execution_count": null,
   "id": "375082a9",
   "metadata": {},
   "outputs": [],
   "source": [
    "#Read the csv file into a dataframe\n",
    "df.to_csv('amazon sales.csv')\n",
    "#\n",
    "df.to_excel('amazon sales.xlsx',index=False)"
   ]
  },
  {
   "cell_type": "markdown",
   "id": "ff0afb0f",
   "metadata": {},
   "source": [
    "# **Visualization**"
   ]
  },
  {
   "cell_type": "markdown",
   "id": "37efa991",
   "metadata": {},
   "source": [
    "# 1. Top Products by Ratings:¶\n",
    "Identify and list the top-rated products based on user ratings."
   ]
  },
  {
   "cell_type": "code",
   "execution_count": null,
   "id": "86162e91",
   "metadata": {},
   "outputs": [],
   "source": [
    "Task: Identify and list the top-rated products based on user ratings.\n",
    "Columns: product_id, product_name, rating\n",
    "    \n"
   ]
  }
 ],
 "metadata": {
  "kernelspec": {
   "display_name": "Python 3 (ipykernel)",
   "language": "python",
   "name": "python3"
  },
  "language_info": {
   "codemirror_mode": {
    "name": "ipython",
    "version": 3
   },
   "file_extension": ".py",
   "mimetype": "text/x-python",
   "name": "python",
   "nbconvert_exporter": "python",
   "pygments_lexer": "ipython3",
   "version": "3.9.13"
  }
 },
 "nbformat": 4,
 "nbformat_minor": 5
}
